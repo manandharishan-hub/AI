{
  "nbformat": 4,
  "nbformat_minor": 0,
  "metadata": {
    "colab": {
      "provenance": []
    },
    "kernelspec": {
      "name": "python3",
      "display_name": "Python 3"
    },
    "language_info": {
      "name": "python"
    }
  },
  "cells": [
    {
      "cell_type": "markdown",
      "source": [
        "Problem - 1: Array Creation:\n",
        "Complete the following Tasks:\n",
        "1. Initialize an empty array with size 2X2."
      ],
      "metadata": {
        "id": "v0Jjw3-VwDjN"
      }
    },
    {
      "cell_type": "code",
      "source": [
        "import numpy as np\n",
        "# Creating an empty array with shape (2, 2)\n",
        "empty_array = np.empty((2, 2))\n",
        "print(empty_array)\n"
      ],
      "metadata": {
        "id": "zh92WuV4wtq6",
        "colab": {
          "base_uri": "https://localhost:8080/"
        },
        "outputId": "2dcadf89-045d-47bc-d332-e0fc0ae40182"
      },
      "execution_count": 100,
      "outputs": [
        {
          "output_type": "stream",
          "name": "stdout",
          "text": [
            "[[1. 0.]\n",
            " [0. 1.]]\n"
          ]
        }
      ]
    },
    {
      "cell_type": "markdown",
      "source": [
        "2.Initialize an all one array with size 4X2."
      ],
      "metadata": {
        "id": "X-Fxojzhy4gO"
      }
    },
    {
      "cell_type": "code",
      "source": [
        "ones_array = np.ones((4, 2))\n",
        "print(ones_array)\n"
      ],
      "metadata": {
        "id": "Y6yWYwtD0lpg",
        "colab": {
          "base_uri": "https://localhost:8080/"
        },
        "outputId": "1d292fc3-8ace-4a53-e467-672ed6646c37"
      },
      "execution_count": 101,
      "outputs": [
        {
          "output_type": "stream",
          "name": "stdout",
          "text": [
            "[[1. 1.]\n",
            " [1. 1.]\n",
            " [1. 1.]\n",
            " [1. 1.]]\n"
          ]
        }
      ]
    },
    {
      "cell_type": "markdown",
      "source": [
        "3. Return a new array of given shape and type, filled with fill value.{Hint: np.full}"
      ],
      "metadata": {
        "id": "mkakn8wp1GRp"
      }
    },
    {
      "cell_type": "code",
      "source": [
        "fill_value_array = np.full((3, 3), 7, dtype=int)\n",
        "print(fill_value_array)\n"
      ],
      "metadata": {
        "id": "SibqnUxq1IFL",
        "colab": {
          "base_uri": "https://localhost:8080/"
        },
        "outputId": "98b92adb-07f2-4c2e-a604-90ad42825397"
      },
      "execution_count": 102,
      "outputs": [
        {
          "output_type": "stream",
          "name": "stdout",
          "text": [
            "[[7 7 7]\n",
            " [7 7 7]\n",
            " [7 7 7]]\n"
          ]
        }
      ]
    },
    {
      "cell_type": "markdown",
      "source": [
        "4.Return a new array of zeros with same shape and type as a given array.{Hint: np.zeros like}"
      ],
      "metadata": {
        "id": "37OcV4u51WQr"
      }
    },
    {
      "cell_type": "code",
      "source": [
        "existing_array = np.array([1, 2, 3, 4])\n",
        "zeros_like_array = np.zeros_like(existing_array)\n",
        "print(zeros_like_array)\n"
      ],
      "metadata": {
        "id": "Pa-o0N2_43f3",
        "colab": {
          "base_uri": "https://localhost:8080/"
        },
        "outputId": "18646791-f87c-4234-e9f0-02376c65453c"
      },
      "execution_count": 103,
      "outputs": [
        {
          "output_type": "stream",
          "name": "stdout",
          "text": [
            "[0 0 0 0]\n"
          ]
        }
      ]
    },
    {
      "cell_type": "markdown",
      "source": [
        "5. Return a new array of ones with same shape and type as a given array.{Hint: np.ones like}"
      ],
      "metadata": {
        "id": "eGfXaERT1qUI"
      }
    },
    {
      "cell_type": "code",
      "source": [
        "ones_like_array = np.ones_like(existing_array)\n",
        "print(ones_like_array)\n"
      ],
      "metadata": {
        "id": "7gsqT0Aj1sLX",
        "colab": {
          "base_uri": "https://localhost:8080/"
        },
        "outputId": "06f9fae3-9d23-45a0-f7a0-3b634490658f"
      },
      "execution_count": 104,
      "outputs": [
        {
          "output_type": "stream",
          "name": "stdout",
          "text": [
            "[1 1 1 1]\n"
          ]
        }
      ]
    },
    {
      "cell_type": "markdown",
      "source": [
        "6. For an existing list new_list = [1,2,3,4] convert to an numpy array.{Hint: np.array()}"
      ],
      "metadata": {
        "id": "euPaPKyU159C"
      }
    },
    {
      "cell_type": "code",
      "source": [
        "new_list = [1, 2, 3, 4]\n",
        "numpy_array = np.array(new_list)\n",
        "print(\"Converted NumPy Array is:\", numpy_array)"
      ],
      "metadata": {
        "id": "_FFllNTA17yI",
        "colab": {
          "base_uri": "https://localhost:8080/"
        },
        "outputId": "91d10af3-b8fc-4e5a-d384-9a6ca4fe8a8e"
      },
      "execution_count": 105,
      "outputs": [
        {
          "output_type": "stream",
          "name": "stdout",
          "text": [
            "Converted NumPy Array is: [1 2 3 4]\n"
          ]
        }
      ]
    },
    {
      "cell_type": "markdown",
      "source": [
        "Problem- 2: Array Manipulation: Numerical Ranges and Array indexing:\n",
        " Complete the following tasks:\n",
        " 1. Create an array with values ranging from 10 to 49. {Hint:np.arrange()}"
      ],
      "metadata": {
        "id": "Waeb70wK5-QY"
      }
    },
    {
      "cell_type": "code",
      "source": [
        "import numpy as np\n",
        "\n",
        "array = np.arange(10, 50)\n",
        "print(array)\n"
      ],
      "metadata": {
        "id": "Hrjo_1nB5_5K",
        "colab": {
          "base_uri": "https://localhost:8080/"
        },
        "outputId": "c66d6fa7-34ff-43f2-c955-04abd9d903a0"
      },
      "execution_count": 106,
      "outputs": [
        {
          "output_type": "stream",
          "name": "stdout",
          "text": [
            "[10 11 12 13 14 15 16 17 18 19 20 21 22 23 24 25 26 27 28 29 30 31 32 33\n",
            " 34 35 36 37 38 39 40 41 42 43 44 45 46 47 48 49]\n"
          ]
        }
      ]
    },
    {
      "cell_type": "markdown",
      "source": [
        "2. Create a 3X3 matrix with values ranging from 0 to 8.\n",
        " {Hint:look for np.reshape()}"
      ],
      "metadata": {
        "id": "iu2mTabn6hHC"
      }
    },
    {
      "cell_type": "code",
      "source": [
        "array_3x3 = np.arange(9).reshape(3, 3)\n",
        "print(array_3x3)\n"
      ],
      "metadata": {
        "id": "H_1w3HTB6mIE",
        "colab": {
          "base_uri": "https://localhost:8080/"
        },
        "outputId": "dc35636b-5caf-45cd-cade-d41ef16f55bb"
      },
      "execution_count": 107,
      "outputs": [
        {
          "output_type": "stream",
          "name": "stdout",
          "text": [
            "[[0 1 2]\n",
            " [3 4 5]\n",
            " [6 7 8]]\n"
          ]
        }
      ]
    },
    {
      "cell_type": "markdown",
      "source": [
        "3. Create a 3X3 identity matrix.{Hint:np.eye()}"
      ],
      "metadata": {
        "id": "14A5ry8y6snk"
      }
    },
    {
      "cell_type": "code",
      "source": [
        "identity_matrix = np.eye(3)\n",
        "print(identity_matrix)\n"
      ],
      "metadata": {
        "id": "m1wNYFKO6wzM",
        "colab": {
          "base_uri": "https://localhost:8080/"
        },
        "outputId": "13a2201f-5e15-4817-cbd9-86365b08b427"
      },
      "execution_count": 108,
      "outputs": [
        {
          "output_type": "stream",
          "name": "stdout",
          "text": [
            "[[1. 0. 0.]\n",
            " [0. 1. 0.]\n",
            " [0. 0. 1.]]\n"
          ]
        }
      ]
    },
    {
      "cell_type": "markdown",
      "source": [
        " 4. Create a random array of size 30 and find the mean of the array.\n",
        " {Hint:check for np.random.random() and array.mean() function}"
      ],
      "metadata": {
        "id": "xy1AqzMJ63xR"
      }
    },
    {
      "cell_type": "code",
      "source": [
        "random_array = np.random.random(30)\n",
        "mean_value = random_array.mean()\n",
        "print(f\"Mean of the array is: {mean_value}\")\n"
      ],
      "metadata": {
        "id": "35-ONA_p68wl",
        "colab": {
          "base_uri": "https://localhost:8080/"
        },
        "outputId": "60fbebfb-2789-4b17-b27e-8209905cd13c"
      },
      "execution_count": 109,
      "outputs": [
        {
          "output_type": "stream",
          "name": "stdout",
          "text": [
            "Mean of the array is: 0.4946987034537086\n"
          ]
        }
      ]
    },
    {
      "cell_type": "markdown",
      "source": [
        "5. Create a 10X10 array with random values and find the minimum and maximum values."
      ],
      "metadata": {
        "id": "zZxnGPrR7A05"
      }
    },
    {
      "cell_type": "code",
      "source": [
        "random_10x10 = np.random.random((10, 10))\n",
        "min_value = random_10x10.min()\n",
        "max_value = random_10x10.max()\n",
        "print(f\"Min: {min_value}, Max: {max_value}\")\n"
      ],
      "metadata": {
        "id": "Ewi-eHCN7Fsx",
        "colab": {
          "base_uri": "https://localhost:8080/"
        },
        "outputId": "e39ae28d-42cf-4219-c034-fd46974429b3"
      },
      "execution_count": 110,
      "outputs": [
        {
          "output_type": "stream",
          "name": "stdout",
          "text": [
            "Min: 0.0008013415841383598, Max: 0.9965365975850242\n"
          ]
        }
      ]
    },
    {
      "cell_type": "markdown",
      "source": [
        " 6. Create a zero array of size 10 and replace 5th element with 1"
      ],
      "metadata": {
        "id": "nP0jjlqS7Keb"
      }
    },
    {
      "cell_type": "code",
      "source": [
        "zero_array = np.zeros(10)\n",
        "zero_array[4] = 1  # Index 4 is the 5th element\n",
        "print(zero_array)\n"
      ],
      "metadata": {
        "id": "vI2NJweH7Psl",
        "colab": {
          "base_uri": "https://localhost:8080/"
        },
        "outputId": "87850acf-d48f-4f54-ecd2-f21b4363c240"
      },
      "execution_count": 111,
      "outputs": [
        {
          "output_type": "stream",
          "name": "stdout",
          "text": [
            "[0. 0. 0. 0. 1. 0. 0. 0. 0. 0.]\n"
          ]
        }
      ]
    },
    {
      "cell_type": "markdown",
      "source": [
        "7. Reverse an array arr = [1,2,0,0,4,0]."
      ],
      "metadata": {
        "id": "sZvim5_K7T7N"
      }
    },
    {
      "cell_type": "code",
      "source": [
        "arr = np.array([1, 2, 0, 0, 4, 0])\n",
        "reversed_arr = arr[::-1]\n",
        "print(reversed_arr)\n"
      ],
      "metadata": {
        "id": "1wkQBNq07Y86",
        "colab": {
          "base_uri": "https://localhost:8080/"
        },
        "outputId": "067d719a-d8cc-475e-a0c1-b45c559e9b9b"
      },
      "execution_count": 112,
      "outputs": [
        {
          "output_type": "stream",
          "name": "stdout",
          "text": [
            "[0 4 0 0 2 1]\n"
          ]
        }
      ]
    },
    {
      "cell_type": "markdown",
      "source": [
        " 8. Create a 2d array with 1 on border and 0 inside."
      ],
      "metadata": {
        "id": "MbYhizbx7ckR"
      }
    },
    {
      "cell_type": "code",
      "source": [
        "border_array = np.ones((5, 5))\n",
        "border_array[1:-1, 1:-1] = 0\n",
        "print(border_array)\n"
      ],
      "metadata": {
        "id": "1VH3BTwY7gCE",
        "colab": {
          "base_uri": "https://localhost:8080/"
        },
        "outputId": "ba765376-b4dc-45b1-c29c-358ad3e8b473"
      },
      "execution_count": 113,
      "outputs": [
        {
          "output_type": "stream",
          "name": "stdout",
          "text": [
            "[[1. 1. 1. 1. 1.]\n",
            " [1. 0. 0. 0. 1.]\n",
            " [1. 0. 0. 0. 1.]\n",
            " [1. 0. 0. 0. 1.]\n",
            " [1. 1. 1. 1. 1.]]\n"
          ]
        }
      ]
    },
    {
      "cell_type": "markdown",
      "source": [
        "9. Create a 8X8 matrix and fill it with a checkerboard pattern."
      ],
      "metadata": {
        "id": "uXkHdCxM7jFf"
      }
    },
    {
      "cell_type": "code",
      "source": [
        "checkerboard = np.zeros((8, 8))\n",
        "checkerboard[1::2, ::2] = 1\n",
        "checkerboard[::2, 1::2] = 1\n",
        "print(checkerboard)\n"
      ],
      "metadata": {
        "id": "rsV7al0z7nbQ",
        "colab": {
          "base_uri": "https://localhost:8080/"
        },
        "outputId": "0f277d93-3c17-45fa-a3a8-02325e1ca670"
      },
      "execution_count": 114,
      "outputs": [
        {
          "output_type": "stream",
          "name": "stdout",
          "text": [
            "[[0. 1. 0. 1. 0. 1. 0. 1.]\n",
            " [1. 0. 1. 0. 1. 0. 1. 0.]\n",
            " [0. 1. 0. 1. 0. 1. 0. 1.]\n",
            " [1. 0. 1. 0. 1. 0. 1. 0.]\n",
            " [0. 1. 0. 1. 0. 1. 0. 1.]\n",
            " [1. 0. 1. 0. 1. 0. 1. 0.]\n",
            " [0. 1. 0. 1. 0. 1. 0. 1.]\n",
            " [1. 0. 1. 0. 1. 0. 1. 0.]]\n"
          ]
        }
      ]
    },
    {
      "cell_type": "markdown",
      "source": [
        " Problem- 3: Array Operations:\n",
        " For the following arrays:\n",
        " x = np.array([[1,2],[3,5]]) and y = np.array([[5,6],[7,8]]);\n",
        " v = np.array([9,10]) and w = np.array([11,12]);\n",
        " Complete all the task using numpy:\n",
        " 1. Add the two array."
      ],
      "metadata": {
        "id": "a1j8gaNK8bFQ"
      }
    },
    {
      "cell_type": "code",
      "source": [
        "import numpy as np\n",
        "\n",
        "x = np.array([[1, 2], [3, 5]])\n",
        "y = np.array([[5, 6], [7, 8]])\n",
        "v = np.array([9, 10])\n",
        "w = np.array([11, 12])\n",
        "sum_array = np.add(x, y)\n",
        "print(sum_array)\n"
      ],
      "metadata": {
        "id": "b5pOaCUk8geh",
        "colab": {
          "base_uri": "https://localhost:8080/"
        },
        "outputId": "1073ff5f-f45e-4ee7-8a23-c5cbca896e34"
      },
      "execution_count": 115,
      "outputs": [
        {
          "output_type": "stream",
          "name": "stdout",
          "text": [
            "[[ 6  8]\n",
            " [10 13]]\n"
          ]
        }
      ]
    },
    {
      "cell_type": "markdown",
      "source": [
        "2. Subtract the two array."
      ],
      "metadata": {
        "id": "A2FtFd4X8nYD"
      }
    },
    {
      "cell_type": "code",
      "source": [
        "subtract_array = np.subtract(x, y)\n",
        "print(subtract_array)\n"
      ],
      "metadata": {
        "id": "K7Nzg8Dl8qMz",
        "colab": {
          "base_uri": "https://localhost:8080/"
        },
        "outputId": "bad79b93-2d00-4664-821f-4152fa98c724"
      },
      "execution_count": 116,
      "outputs": [
        {
          "output_type": "stream",
          "name": "stdout",
          "text": [
            "[[-4 -4]\n",
            " [-4 -3]]\n"
          ]
        }
      ]
    },
    {
      "cell_type": "markdown",
      "source": [
        "3. Multiply the array with any integers of your choice."
      ],
      "metadata": {
        "id": "pe6Wh_QK8uC-"
      }
    },
    {
      "cell_type": "code",
      "source": [
        "multiplied_array = x * 2\n",
        "print(multiplied_array)\n"
      ],
      "metadata": {
        "id": "dBJ68xwr8xwu",
        "colab": {
          "base_uri": "https://localhost:8080/"
        },
        "outputId": "bb3bffef-3c5d-4ead-a1e6-22e6535a21f3"
      },
      "execution_count": 117,
      "outputs": [
        {
          "output_type": "stream",
          "name": "stdout",
          "text": [
            "[[ 2  4]\n",
            " [ 6 10]]\n"
          ]
        }
      ]
    },
    {
      "cell_type": "markdown",
      "source": [
        " 4. Find the square of each element of the array."
      ],
      "metadata": {
        "id": "wb8b6MBq81ed"
      }
    },
    {
      "cell_type": "code",
      "source": [
        "squared_array = np.square(x)\n",
        "print(squared_array)\n"
      ],
      "metadata": {
        "id": "yBvNrU9p84X0",
        "colab": {
          "base_uri": "https://localhost:8080/"
        },
        "outputId": "93374d3a-20f2-4175-ca85-f5936bd37a0c"
      },
      "execution_count": 118,
      "outputs": [
        {
          "output_type": "stream",
          "name": "stdout",
          "text": [
            "[[ 1  4]\n",
            " [ 9 25]]\n"
          ]
        }
      ]
    },
    {
      "cell_type": "markdown",
      "source": [
        " 5. Find the dot product between: v(and)w ; x(and)v ; x(and)y."
      ],
      "metadata": {
        "id": "n9GGo4Ly88Gz"
      }
    },
    {
      "cell_type": "code",
      "source": [
        "dot_v_w = np.dot(v, w)\n",
        "dot_x_v = np.dot(x, v)\n",
        "dot_x_y = np.dot(x, y)\n",
        "\n",
        "print(f\"Dot product of v and w is: {dot_v_w}\")\n",
        "print(f\"Dot product of x and v is: {dot_x_v}\")\n",
        "print(f\"Dot product of x and y is: {dot_x_y}\")\n"
      ],
      "metadata": {
        "id": "IOzRf4kC8_NR",
        "colab": {
          "base_uri": "https://localhost:8080/"
        },
        "outputId": "91ee40ef-be9e-4801-e5f4-314c6ee7abb3"
      },
      "execution_count": 119,
      "outputs": [
        {
          "output_type": "stream",
          "name": "stdout",
          "text": [
            "Dot product of v and w is: 219\n",
            "Dot product of x and v is: [29 77]\n",
            "Dot product of x and y is: [[19 22]\n",
            " [50 58]]\n"
          ]
        }
      ]
    },
    {
      "cell_type": "markdown",
      "source": [
        " 6. Concatenate x(and)y along row and Concatenate v(and)w along column.\n",
        " {Hint:try np.concatenate() or np.vstack() functions."
      ],
      "metadata": {
        "id": "htEppbn49EAc"
      }
    },
    {
      "cell_type": "code",
      "source": [
        "concatenate_x_y = np.concatenate((x, y), axis=0)\n",
        "concatenate_v_w = np.concatenate((v.reshape(-1, 1), w.reshape(-1, 1)), axis=1)\n",
        "\n",
        "print(f\"Concatenated x and y along rows:\\n{concatenate_x_y}\")\n",
        "print(f\"Concatenated v and w along columns:\\n{concatenate_v_w}\")\n"
      ],
      "metadata": {
        "id": "xureMRLk9H2Z",
        "colab": {
          "base_uri": "https://localhost:8080/"
        },
        "outputId": "9eccfd4c-fc89-4ac5-e3f4-d6dcf0439e2a"
      },
      "execution_count": 120,
      "outputs": [
        {
          "output_type": "stream",
          "name": "stdout",
          "text": [
            "Concatenated x and y along rows:\n",
            "[[1 2]\n",
            " [3 5]\n",
            " [5 6]\n",
            " [7 8]]\n",
            "Concatenated v and w along columns:\n",
            "[[ 9 11]\n",
            " [10 12]]\n"
          ]
        }
      ]
    },
    {
      "cell_type": "markdown",
      "source": [
        " 7. Concatenate x(and)v; if you get an error, observe and explain why did you get the error?"
      ],
      "metadata": {
        "id": "yFQRS89z9L3n"
      }
    },
    {
      "cell_type": "code",
      "source": [
        "try:\n",
        "    concatenate_x_v = np.concatenate((x, v), axis=0)\n",
        "    print(concatenate_x_v)\n",
        "except Exception as e:\n",
        "    print(f\"Error: {e}\")\n"
      ],
      "metadata": {
        "id": "756LPgw09RDJ",
        "colab": {
          "base_uri": "https://localhost:8080/"
        },
        "outputId": "06da8de3-925e-4cb9-b59c-4417b6efdd57"
      },
      "execution_count": 121,
      "outputs": [
        {
          "output_type": "stream",
          "name": "stdout",
          "text": [
            "Error: all the input arrays must have same number of dimensions, but the array at index 0 has 2 dimension(s) and the array at index 1 has 1 dimension(s)\n"
          ]
        }
      ]
    },
    {
      "cell_type": "markdown",
      "source": [
        " Problem- 4: Matrix Operations:\n",
        " • For the following arrays:\n",
        " A = np.array([[3,4],[7,8]]) and B = np.array([[5,3],[2,1]]);\n",
        " Prove following with Numpy:\n",
        " 1. Prove A.A−1 = I.\n"
      ],
      "metadata": {
        "id": "5FFUeOox9Wgh"
      }
    },
    {
      "cell_type": "code",
      "source": [
        "import numpy as np\n",
        "\n",
        "A = np.array([[3, 4], [7, 8]])\n",
        "B = np.array([[5, 3], [2, 1]])\n",
        "I = np.eye(2)  # Identity matrix of size 2x2\n",
        "A_inv = np.linalg.inv(A)\n",
        "result = np.dot(A, A_inv)\n",
        "print(\"A * A^-1 = \\n\", result)\n",
        "print(\"Identity Matrix I = \\n\", I)\n"
      ],
      "metadata": {
        "id": "3TB5gl5s9k-C",
        "colab": {
          "base_uri": "https://localhost:8080/"
        },
        "outputId": "1c079f48-00f1-43a2-96ba-d4b4c5b735bc"
      },
      "execution_count": 122,
      "outputs": [
        {
          "output_type": "stream",
          "name": "stdout",
          "text": [
            "A * A^-1 = \n",
            " [[1.00000000e+00 0.00000000e+00]\n",
            " [1.77635684e-15 1.00000000e+00]]\n",
            "Identity Matrix I = \n",
            " [[1. 0.]\n",
            " [0. 1.]]\n"
          ]
        }
      ]
    },
    {
      "cell_type": "markdown",
      "source": [
        " 2. Prove AB= BA."
      ],
      "metadata": {
        "id": "MsDYLYzu9yrT"
      }
    },
    {
      "cell_type": "code",
      "source": [
        "AB = np.dot(A, B)\n",
        "BA = np.dot(B, A)\n",
        "print(\"AB = \\n\", AB)\n",
        "print(\"BA = \\n\", BA)\n",
        "print(\"AB equals BA: \", np.allclose(AB, BA))  # Check if AB and BA are equal\n"
      ],
      "metadata": {
        "id": "oj6-obfJ93CR",
        "colab": {
          "base_uri": "https://localhost:8080/"
        },
        "outputId": "8cc60c27-231e-423d-ce31-84b20b8df44c"
      },
      "execution_count": 123,
      "outputs": [
        {
          "output_type": "stream",
          "name": "stdout",
          "text": [
            "AB = \n",
            " [[23 13]\n",
            " [51 29]]\n",
            "BA = \n",
            " [[36 44]\n",
            " [13 16]]\n",
            "AB equals BA:  False\n"
          ]
        }
      ]
    },
    {
      "cell_type": "markdown",
      "source": [
        " 3. Prove (AB)T = BTAT."
      ],
      "metadata": {
        "id": "ie_8XU8j97qz"
      }
    },
    {
      "cell_type": "code",
      "source": [
        "AB_transpose = np.transpose(AB)\n",
        "BT_AT = np.dot(np.transpose(B), np.transpose(A))\n",
        "print(\"Transpose of AB = \\n\", AB_transpose)\n",
        "print(\"B^T * A^T = \\n\", BT_AT)\n",
        "print(\"(AB)^T equals B^T A^T: \", np.allclose(AB_transpose, BT_AT))  # Check if they are equal\n"
      ],
      "metadata": {
        "id": "rLWnZN5l9_Zk",
        "colab": {
          "base_uri": "https://localhost:8080/"
        },
        "outputId": "21af1961-9327-4506-b0a1-bdc39647df4e"
      },
      "execution_count": 124,
      "outputs": [
        {
          "output_type": "stream",
          "name": "stdout",
          "text": [
            "Transpose of AB = \n",
            " [[23 51]\n",
            " [13 29]]\n",
            "B^T * A^T = \n",
            " [[23 51]\n",
            " [13 29]]\n",
            "(AB)^T equals B^T A^T:  True\n"
          ]
        }
      ]
    },
    {
      "cell_type": "markdown",
      "source": [
        " • Solve the following system of Linear equation using Inverse Methods.\n",
        " 2x −3y+z =−1\n",
        " x −y+2z =−3\n",
        " 3x +y−z =9"
      ],
      "metadata": {
        "id": "KM7x9FQI-CwM"
      }
    },
    {
      "cell_type": "code",
      "source": [
        "A_system = np.array([[2, -3, 1], [1, -1, 2], [3, 1, -1]])  # Coefficient matrix\n",
        "B_system = np.array([-1, -3, 9])\n",
        "# Solve for X using the inverse method: X = A_inv * B\n",
        "A_inv_system = np.linalg.inv(A_system)\n",
        "X = np.dot(A_inv_system, B_system)\n",
        "print(\"Solution of the system (x, y, z): \", X)\n"
      ],
      "metadata": {
        "id": "BUgDal38-Hx0",
        "colab": {
          "base_uri": "https://localhost:8080/"
        },
        "outputId": "5f916102-e521-4ade-e1aa-c082c4471e11"
      },
      "execution_count": 125,
      "outputs": [
        {
          "output_type": "stream",
          "name": "stdout",
          "text": [
            "Solution of the system (x, y, z):  [ 2.  1. -2.]\n"
          ]
        }
      ]
    },
    {
      "cell_type": "markdown",
      "source": [
        "• Now: solve the above equation using np.linalg.inv function.{Explore more about ”linalg” function\n",
        " of Numpy}"
      ],
      "metadata": {
        "id": "nu-ieFy_-X05"
      }
    },
    {
      "cell_type": "code",
      "source": [
        "import numpy as np\n",
        "\n",
        "# Coefficient matrix A (3x3)\n",
        "A_system = np.array([[2, -3, 1], [1, -1, 2], [3, 1, -1]])\n",
        "\n",
        "B_system = np.array([-1, -3, 9])\n",
        "\n",
        "A_inv_system = np.linalg.inv(A_system)\n",
        "\n",
        "X = np.dot(A_inv_system, B_system)\n",
        "\n",
        "print(\"Solution of the system (x, y, z) is:\", X)\n"
      ],
      "metadata": {
        "id": "KEzbtAEW-YIr",
        "colab": {
          "base_uri": "https://localhost:8080/"
        },
        "outputId": "811a16d8-dba4-4208-9522-4dfc7e46060d"
      },
      "execution_count": 126,
      "outputs": [
        {
          "output_type": "stream",
          "name": "stdout",
          "text": [
            "Solution of the system (x, y, z) is: [ 2.  1. -2.]\n"
          ]
        }
      ]
    }
  ]
}